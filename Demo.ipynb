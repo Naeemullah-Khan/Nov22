{
 "cells": [
  {
   "cell_type": "code",
   "execution_count": 18,
   "id": "4982e30e-1ec0-4d84-ad78-683edfc74b04",
   "metadata": {},
   "outputs": [],
   "source": [
    "import numpy as np\n",
    "import matplotlib.pyplot as plt"
   ]
  },
  {
   "cell_type": "code",
   "execution_count": 45,
   "id": "e97f5709-f1d9-402e-ac21-b9577603bc6c",
   "metadata": {},
   "outputs": [],
   "source": [
    "X = np.random.randn(2,100)\n",
    "y = 1*(X[0,:]*X[1,:]>0)\n",
    "y = y.reshape(1,-1)"
   ]
  },
  {
   "cell_type": "code",
   "execution_count": 46,
   "id": "01ffb057-428f-4d94-9506-5747f96750f5",
   "metadata": {},
   "outputs": [
    {
     "name": "stdout",
     "output_type": "stream",
     "text": [
      "(1, 100)\n"
     ]
    }
   ],
   "source": [
    "print(y.shape)"
   ]
  },
  {
   "cell_type": "code",
   "execution_count": 47,
   "id": "cf33d801-7b77-4ed8-8774-848b2003cbe9",
   "metadata": {},
   "outputs": [
    {
     "data": {
      "image/png": "[encoded data removed]",
      "text/plain": [
       "<Figure size 432x288 with 1 Axes>"
      ]
     },
     "metadata": {
      "needs_background": "light"
     },
     "output_type": "display_data"
    }
   ],
   "source": [
    "for i in range(X.shape[1]):\n",
    "    if y[0,i]>0:\n",
    "        plt.plot(X[0,i],X[1,i] ,'bo')\n",
    "        \n",
    "    else:\n",
    "        plt.plot(X[0,i],X[1,i] ,'rx')\n",
    "        "
   ]
  },
  {
   "cell_type": "code",
   "execution_count": 48,
   "id": "d5863978-a80e-4341-a651-b13a99f23b18",
   "metadata": {},
   "outputs": [
    {
     "name": "stdout",
     "output_type": "stream",
     "text": [
      "(2, 100)\n"
     ]
    }
   ],
   "source": [
    "print(X.shape)"
   ]
  },
  {
   "cell_type": "code",
   "execution_count": 49,
   "id": "20a87bae-84e7-47f8-babf-2c7580a56e98",
   "metadata": {},
   "outputs": [],
   "source": [
    "def sigmoid(Z):\n",
    "    return 1/(1+np.exp(-Z))\n",
    "\n",
    "\n",
    "def get_loss(yhat, y):\n",
    "    return np.sum( -y*np.log(yhat) - (1-y)*np.log(1-yhat), axis =1)"
   ]
  },
  {
   "cell_type": "code",
   "execution_count": 50,
   "id": "ca7a98bb-38a8-4697-88e5-4885dbfb6174",
   "metadata": {},
   "outputs": [
    {
     "data": {
      "text/plain": [
       "[<matplotlib.lines.Line2D at 0x7fe4d8142780>]"
      ]
     },
     "execution_count": 50,
     "metadata": {},
     "output_type": "execute_result"
    },
    {
     "data": {
      "image/png": "[encoded data removed]",
      "text/plain": [
       "<Figure size 432x288 with 1 Axes>"
      ]
     },
     "metadata": {
      "needs_background": "light"
     },
     "output_type": "display_data"
    }
   ],
   "source": [
    "# number of hidden units is 10\n",
    "W1 = np.random.randn(10,2)\n",
    "b1 = np.zeros((10,1))\n",
    "\n",
    "W2 = np.random.randn(1, 10)\n",
    "b2 = np.zeros((1,1))\n",
    "\n",
    "\n",
    "lr = 0.0001\n",
    "ls = []\n",
    "for i in range(1000):\n",
    "    #forward pass\n",
    "    Z1 = W1@X + b1\n",
    "    A1 = sigmoid(Z1)\n",
    "    \n",
    "    Z2 = W2@A1 + b2\n",
    "    A2 = sigmoid(Z2)\n",
    "    ls.append(get_loss(A2,y))\n",
    "    # backward pass\n",
    "    # dZ2 = dJ/dZ2\n",
    "    dZ2 = A2- y\n",
    "    dW2 = dZ2 @ A1.T\n",
    "    db2 = np.sum(dZ2, axis = 1, keepdims = True)\n",
    "    \n",
    "    dZ1 = W2.T@ dZ2 * A1*(1-A1)\n",
    "    dW1 = dZ1 @ X.T\n",
    "    db1 = np.sum(dZ1, axis = 1, keepdims = True)\n",
    "    \n",
    "    W1 = W1 -lr*dW1\n",
    "    b1 = b1 - lr*db1\n",
    "    W2 = W2 -lr*dW2\n",
    "    b2 = b2 -lr*db2\n",
    "    \n",
    "plt.plot(ls)\n",
    "    \n",
    "    "
   ]
  },
  {
   "cell_type": "code",
   "execution_count": 31,
   "id": "b9535c2d-ca2e-476a-ad8d-2ce46c93c5b9",
   "metadata": {},
   "outputs": [
    {
     "name": "stdout",
     "output_type": "stream",
     "text": [
      "(2, 100)\n"
     ]
    }
   ],
   "source": [
    "print(y.shape)"
   ]
  },
  {
   "cell_type": "code",
   "execution_count": null,
   "id": "5cef4459-57e5-489e-8607-d2e4b625b13b",
   "metadata": {},
   "outputs": [],
   "source": []
  }
 ],
 "metadata": {
  "kernelspec": {
   "display_name": "Python 3",
   "language": "python",
   "name": "python3"
  },
  "language_info": {
   "codemirror_mode": {
    "name": "ipython",
    "version": 3
   },
   "file_extension": ".py",
   "mimetype": "text/x-python",
   "name": "python",
   "nbconvert_exporter": "python",
   "pygments_lexer": "ipython3",
   "version": "3.6.13"
  }
 },
 "nbformat": 4,
 "nbformat_minor": 5
}
